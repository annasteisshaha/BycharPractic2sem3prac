{
 "cells": [
  {
   "cell_type": "code",
   "execution_count": 4,
   "id": "921683be",
   "metadata": {},
   "outputs": [],
   "source": [
    "import requests\n",
    "from bs4 import BeautifulSoup\n",
    "import copy\n",
    "import pandas as pd"
   ]
  },
  {
   "cell_type": "markdown",
   "id": "45c9234b",
   "metadata": {},
   "source": [
    "Sites: Litres, Irecommend, MyBook"
   ]
  },
  {
   "cell_type": "code",
   "execution_count": 30,
   "id": "41c25c07",
   "metadata": {},
   "outputs": [],
   "source": [
    "books_dict = {\n",
    "'Martin Eden' : ['https://www.litres.ru/book/dzhek-london/martin-iden-6599211/chitat-onlayn/', 'https://irecommend.ru/content/martin-iden-dzhek-london', 'https://mybook.ru/author/dzhek-london/martin-iden-4/'],\n",
    "'Portrait of Dorian Gray' : ['https://www.litres.ru/book/oskar-uayld/portret-doriana-greya-130224/', 'https://irecommend.ru/content/portret-doriana-greya-oskar-uald', 'https://mybook.ru/author/oskar-uajld/portret-doriana-greya-1/'],\n",
    "'Little mistress of a big house' : ['https://www.litres.ru/book/dzhek-london/malenkaya-hozyayka-bolshogo-doma-125380/', 'https://irecommend.ru/content/malenkaya-khozyaika-bolshogo-doma-dzhek-london', 'https://mybook.ru/author/dzhek-london/malenkaya-hozyajka-bolshogo-doma/'],\n",
    "'A clockwork orange' : ['https://www.litres.ru/book/entoni-berdzhes/zavodnoy-apelsin-129934/', 'https://irecommend.ru/content/zavodnoi-apelsin-entoni-berdzhess', 'https://mybook.ru/author/entoni-byordzhes/zavodnoj-apelsin-1/'],\n",
    "'The doomed City' : ['https://www.litres.ru/book/arkadiy-i-boris-strugackie/grad-obrechennyy-121732/', 'https://irecommend.ru/content/grad-obrechennyi-arkadii-i-boris-strugatskie', 'https://mybook.ru/author/arkadij-i-boris-strugackie/grad-obrechennyj-2/'],\n",
    "'The Green Mile' : ['https://www.litres.ru/audiobook/stiven-king/zelenaya-milya-22967843/', 'https://irecommend.ru/content/zelenaya-milya-stiven-king', 'https://mybook.ru/author/stiven-king/zelyonaya-milya/'],\n",
    "'Three comrades' : ['https://www.litres.ru/book/tri-tovarischa-32544665/', 'https://irecommend.ru/content/tri-tovarishcha-erikh-mariya-remark', 'https://mybook.ru/author/erih-mariya-remark/tri-tovarisha/'],\n",
    "'The Arc de Triomphe' : ['https://www.litres.ru/book/erih-mariya-remark/triumfalnaya-arka-26112223/', 'https://irecommend.ru/content/triumfalnaya-arka-erikh-mariya-remark', 'https://mybook.ru/author/erih-mariya-remark/triumfalnaya-arka/'], \n",
    "'Love your neighbor' : ['https://www.litres.ru/book/erih-mariya-remark/vozlubi-blizhnego-svoego-noch-v-lissabone-25279904/', 'https://irecommend.ru/content/vozlyubi-blizhnego-svoego-erikh-mariya-remark', 'https://mybook.ru/author/erih-mariya-remark/vozlyubi-blizhnego-svoego/'],\n",
    "'No changes on the Western front' : ['https://www.litres.ru/book/na-zapadnom-fronte-bez-peremen-32878920/', 'https://irecommend.ru/content/na-zapadnom-fronte-bez-peremen-erikh-mariya-remark', 'https://mybook.ru/author/erih-mariya-remark/na-zapadnom-fronte-bez-peremen-4/'] \n",
    "}\n",
    "books_dict_rating = copy.deepcopy(books_dict)\n",
    "books_dict_mean = copy.deepcopy(books_dict)"
   ]
  },
  {
   "cell_type": "code",
   "execution_count": 31,
   "id": "480fe11b",
   "metadata": {},
   "outputs": [
    {
     "name": "stdout",
     "output_type": "stream",
     "text": [
      "Обработано 1\n",
      "Обработано 2\n",
      "Обработано 3\n",
      "Обработано 4\n",
      "Обработано 5\n",
      "Обработано 6\n",
      "Обработано 7\n",
      "Обработано 8\n",
      "Обработано 9\n",
      "Обработано 10\n"
     ]
    }
   ],
   "source": [
    "count = 1\n",
    "for k, v in books_dict.items():\n",
    "    \n",
    "    \n",
    "    if k != 'The Green Mile':\n",
    "        req1 = requests.get(v[0]).text\n",
    "        bs1 = BeautifulSoup(req1, 'lxml')\n",
    "        rating = bs1.find(class_ = 'is-newer-rating rating-source-info with-livelib-ratings').text[:4]\n",
    "        books_dict_rating[k][0] = float(rating.replace(',', '.'))\n",
    "    else: \n",
    "        req1 = requests.get(v[0]).text\n",
    "        bs1 = BeautifulSoup(req1, 'lxml')\n",
    "        rating = bs1.find(class_ = 'is-newer-rating rating-source-info').text[:4]\n",
    "        books_dict_rating[k][0] = float(rating.replace(',', '.'))\n",
    "    \n",
    "    req2 = requests.get(v[1]).text\n",
    "    bs2 = BeautifulSoup(req2, 'lxml')\n",
    "    rating = bs2.find(class_ = 'rating').text\n",
    "    books_dict_rating[k][1] = float(rating.split()[1].replace(',', '.'))\n",
    "    \n",
    "    req3 = requests.get(v[2]).text\n",
    "    bs3 = BeautifulSoup(req3, 'lxml')\n",
    "    rating = bs3.find(class_ = 'sc-1s4c57r-0 goYpPi').find_all('b')[0].text\n",
    "    books_dict_rating[k][2] = float(rating.split()[0])\n",
    "    print(f'Обработано {count}')\n",
    "    count += 1"
   ]
  },
  {
   "cell_type": "code",
   "execution_count": 32,
   "id": "071b77d4",
   "metadata": {},
   "outputs": [
    {
     "data": {
      "text/plain": [
       "{'Martin Eden': [4.89, 4.7, 4.7],\n",
       " 'Portrait of Dorian Gray': [4.74, 4.7, 4.46],\n",
       " 'Little mistress of a big house': [4.63, 4.0, 4.46],\n",
       " 'A clockwork orange': [4.52, 4.2, 4.48],\n",
       " 'The doomed City': [4.76, 4.8, 4.5],\n",
       " 'The Green Mile': [4.97, 4.9, 4.62],\n",
       " 'Three comrades': [4.81, 4.7, 4.54],\n",
       " 'The Arc de Triomphe': [4.71, 4.8, 4.56],\n",
       " 'Love your neighbor': [4.53, 4.9, 4.77],\n",
       " 'No changes on the Western front': [4.92, 4.8, 4.8]}"
      ]
     },
     "execution_count": 32,
     "metadata": {},
     "output_type": "execute_result"
    }
   ],
   "source": [
    "books_dict_rating"
   ]
  },
  {
   "cell_type": "code",
   "execution_count": 33,
   "id": "235d048b",
   "metadata": {},
   "outputs": [],
   "source": [
    "for k, v in books_dict_rating.items():\n",
    "    books_dict_mean[k] = round(sum(v)/len(v), 2)"
   ]
  },
  {
   "cell_type": "code",
   "execution_count": 34,
   "id": "082a8bd9",
   "metadata": {},
   "outputs": [
    {
     "data": {
      "text/plain": [
       "{'Martin Eden': 4.76,\n",
       " 'Portrait of Dorian Gray': 4.63,\n",
       " 'Little mistress of a big house': 4.36,\n",
       " 'A clockwork orange': 4.4,\n",
       " 'The doomed City': 4.69,\n",
       " 'The Green Mile': 4.83,\n",
       " 'Three comrades': 4.68,\n",
       " 'The Arc de Triomphe': 4.69,\n",
       " 'Love your neighbor': 4.73,\n",
       " 'No changes on the Western front': 4.84}"
      ]
     },
     "execution_count": 34,
     "metadata": {},
     "output_type": "execute_result"
    }
   ],
   "source": [
    "books_dict_mean"
   ]
  },
  {
   "cell_type": "code",
   "execution_count": 35,
   "id": "db0d167e",
   "metadata": {},
   "outputs": [],
   "source": [
    "df = pd.DataFrame(books_dict_mean, index = ['mean'])"
   ]
  },
  {
   "cell_type": "code",
   "execution_count": 36,
   "id": "c1ea1beb",
   "metadata": {},
   "outputs": [
    {
     "data": {
      "text/html": [
       "<div>\n",
       "<style scoped>\n",
       "    .dataframe tbody tr th:only-of-type {\n",
       "        vertical-align: middle;\n",
       "    }\n",
       "\n",
       "    .dataframe tbody tr th {\n",
       "        vertical-align: top;\n",
       "    }\n",
       "\n",
       "    .dataframe thead th {\n",
       "        text-align: right;\n",
       "    }\n",
       "</style>\n",
       "<table border=\"1\" class=\"dataframe\">\n",
       "  <thead>\n",
       "    <tr style=\"text-align: right;\">\n",
       "      <th></th>\n",
       "      <th>Martin Eden</th>\n",
       "      <th>Portrait of Dorian Gray</th>\n",
       "      <th>Little mistress of a big house</th>\n",
       "      <th>A clockwork orange</th>\n",
       "      <th>The doomed City</th>\n",
       "      <th>The Green Mile</th>\n",
       "      <th>Three comrades</th>\n",
       "      <th>The Arc de Triomphe</th>\n",
       "      <th>Love your neighbor</th>\n",
       "      <th>No changes on the Western front</th>\n",
       "    </tr>\n",
       "  </thead>\n",
       "  <tbody>\n",
       "    <tr>\n",
       "      <th>mean</th>\n",
       "      <td>4.76</td>\n",
       "      <td>4.63</td>\n",
       "      <td>4.36</td>\n",
       "      <td>4.4</td>\n",
       "      <td>4.69</td>\n",
       "      <td>4.83</td>\n",
       "      <td>4.68</td>\n",
       "      <td>4.69</td>\n",
       "      <td>4.73</td>\n",
       "      <td>4.84</td>\n",
       "    </tr>\n",
       "  </tbody>\n",
       "</table>\n",
       "</div>"
      ],
      "text/plain": [
       "      Martin Eden  Portrait of Dorian Gray  Little mistress of a big house  \\\n",
       "mean         4.76                     4.63                            4.36   \n",
       "\n",
       "      A clockwork orange  The doomed City  The Green Mile  Three comrades  \\\n",
       "mean                 4.4             4.69            4.83            4.68   \n",
       "\n",
       "      The Arc de Triomphe  Love your neighbor  No changes on the Western front  \n",
       "mean                 4.69                4.73                             4.84  "
      ]
     },
     "execution_count": 36,
     "metadata": {},
     "output_type": "execute_result"
    }
   ],
   "source": [
    "df "
   ]
  },
  {
   "cell_type": "code",
   "execution_count": null,
   "id": "9cbff535",
   "metadata": {},
   "outputs": [],
   "source": []
  }
 ],
 "metadata": {
  "kernelspec": {
   "display_name": "Python 3 (ipykernel)",
   "language": "python",
   "name": "python3"
  },
  "language_info": {
   "codemirror_mode": {
    "name": "ipython",
    "version": 3
   },
   "file_extension": ".py",
   "mimetype": "text/x-python",
   "name": "python",
   "nbconvert_exporter": "python",
   "pygments_lexer": "ipython3",
   "version": "3.9.7"
  }
 },
 "nbformat": 4,
 "nbformat_minor": 5
}
